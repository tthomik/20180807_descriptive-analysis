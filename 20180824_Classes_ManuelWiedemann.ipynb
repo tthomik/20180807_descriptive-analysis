{
 "cells": [
  {
   "cell_type": "markdown",
   "metadata": {},
   "source": [
    "# Functions"
   ]
  },
  {
   "cell_type": "code",
   "execution_count": 31,
   "metadata": {},
   "outputs": [
    {
     "name": "stdout",
     "output_type": "stream",
     "text": [
      "1 2 3\n"
     ]
    }
   ],
   "source": [
    "def args_function(a, b, c):\n",
    "    print(a, b, c)\n",
    "   \n",
    "args_function(1, 2, 3)"
   ]
  },
  {
   "cell_type": "code",
   "execution_count": 39,
   "metadata": {},
   "outputs": [
    {
     "name": "stdout",
     "output_type": "stream",
     "text": [
      "1 2 3\n"
     ]
    }
   ],
   "source": [
    "# Keyword \n",
    "def kwargs_function(*, a, b, c):\n",
    "    print(a, b, c)\n",
    "    \n",
    "kwargs_function(b=2, a=1, c=3)"
   ]
  },
  {
   "cell_type": "code",
   "execution_count": 33,
   "metadata": {},
   "outputs": [
    {
     "name": "stdout",
     "output_type": "stream",
     "text": [
      "args: 1 2 3\n",
      "kwargs 4 5 6\n"
     ]
    }
   ],
   "source": [
    "def args_and_kwargs_function(a, b, c, *, d, e, f):\n",
    "    print('args:', a, b, c)\n",
    "    print('kwargs', d, e, f)\n",
    "    \n",
    "args_and_kwargs_function(1, 2, 3, d=4, e=5, f=6)"
   ]
  },
  {
   "cell_type": "code",
   "execution_count": 34,
   "metadata": {},
   "outputs": [
    {
     "name": "stdout",
     "output_type": "stream",
     "text": [
      "{'a': 1, 'b': 2, 'c': 3}\n",
      "{'a': 3, 'b': 4, 'c': 5}\n"
     ]
    }
   ],
   "source": [
    "def generic_kwargs_function(**kwargs):\n",
    "    print(kwargs)\n",
    "\n",
    "generic_kwargs_function(a=1, b=2, c=3)\n",
    "\n",
    "args = {'a': 3, 'b': 4, 'c': 5}\n",
    "generic_kwargs_function(**args)"
   ]
  },
  {
   "cell_type": "markdown",
   "metadata": {},
   "source": [
    "# Defaults"
   ]
  },
  {
   "cell_type": "code",
   "execution_count": 38,
   "metadata": {},
   "outputs": [
    {
     "name": "stdout",
     "output_type": "stream",
     "text": [
      "2.5\n",
      "5\n"
     ]
    }
   ],
   "source": [
    "def calc_score(value, weight=0.5):\n",
    "    return value * weight\n",
    "\n",
    "print(calc_score(5))\n",
    "print(calc_score(5, 1))"
   ]
  },
  {
   "cell_type": "code",
   "execution_count": 40,
   "metadata": {},
   "outputs": [
    {
     "name": "stdout",
     "output_type": "stream",
     "text": [
      "2.5\n",
      "5\n"
     ]
    }
   ],
   "source": [
    "def calc_score(value, *, weight=None):\n",
    "    if weight == None:\n",
    "        weight = 0.5\n",
    "        \n",
    "    return value * weight\n",
    "\n",
    "print(calc_score(5))\n",
    "print(calc_score(5, weight=1))"
   ]
  },
  {
   "cell_type": "markdown",
   "metadata": {},
   "source": [
    "# Classes"
   ]
  },
  {
   "cell_type": "code",
   "execution_count": 49,
   "metadata": {},
   "outputs": [
    {
     "name": "stdout",
     "output_type": "stream",
     "text": [
      "starting engine...\n",
      "engine running...\n",
      "Engine: running, driving: False\n",
      "Engine: running, driving: False\n",
      "starting engine...\n",
      "engine running...\n",
      "Engine: running, driving: False\n",
      "Engine: running, driving: False\n",
      "driving...\n",
      "Engine: running, driving: True\n",
      "Engine: running, driving: True\n",
      "stopped.\n",
      "Engine: running, driving: False\n",
      "Engine: running, driving: False\n",
      "stopping engine...\n",
      "engine stopped.\n",
      "Engine: stopped, driving: False\n",
      "Engine: stopped, driving: False\n"
     ]
    }
   ],
   "source": [
    "class Car:\n",
    "    def __init__(self):\n",
    "        self.engine = 'stopped'\n",
    "        self.driving = False\n",
    "        \n",
    "    def call(self, what):\n",
    "        return getattr(self, what)()\n",
    "\n",
    "    def start_engine(self):\n",
    "        print('starting engine...')\n",
    "        self.engine = 'running'\n",
    "        print('engine running...')\n",
    "        self._report()\n",
    "\n",
    "    def stop_engine(self):\n",
    "        print('stopping engine...')\n",
    "        self.engine = 'stopped'\n",
    "        self.driving = False\n",
    "        print('engine stopped.')\n",
    "        self._report()\n",
    "\n",
    "    def drive(self):\n",
    "        print('driving...')\n",
    "        self.driving = True\n",
    "        self._report()\n",
    "\n",
    "    def stop(self):\n",
    "        print('stopped.')\n",
    "        self.driving = False\n",
    "        self._report()\n",
    "        \n",
    "    def _report(self):\n",
    "        # Python 3.6\n",
    "        print(f'Engine: {self.engine}, driving: {self.driving}')\n",
    "        # Python 2.7\n",
    "        template = 'Engine: {engine}, driving: {driving}'\n",
    "        print(template.format(engine=self.engine, driving=self.driving))\n",
    "        \n",
    "        \n",
    "car = Car()\n",
    "car.start_engine()\n",
    "car.call('start_engine')\n",
    "car.drive()\n",
    "car.stop()\n",
    "car.stop_engine()\n"
   ]
  },
  {
   "cell_type": "raw",
   "metadata": {},
   "source": []
  }
 ],
 "metadata": {
  "kernelspec": {
   "display_name": "Python 3",
   "language": "python",
   "name": "python3"
  },
  "language_info": {
   "codemirror_mode": {
    "name": "ipython",
    "version": 3
   },
   "file_extension": ".py",
   "mimetype": "text/x-python",
   "name": "python",
   "nbconvert_exporter": "python",
   "pygments_lexer": "ipython3",
   "version": "3.6.6"
  }
 },
 "nbformat": 4,
 "nbformat_minor": 2
}
