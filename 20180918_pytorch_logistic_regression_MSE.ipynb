{
 "cells": [
  {
   "cell_type": "markdown",
   "metadata": {},
   "source": [
    "## Example Logistic Regression MSE"
   ]
  },
  {
   "cell_type": "markdown",
   "metadata": {},
   "source": [
    "Zunächst konfigurieren wir *Torch*"
   ]
  },
  {
   "cell_type": "code",
   "execution_count": 1,
   "metadata": {},
   "outputs": [],
   "source": [
    "from matplotlib import pyplot as plt\n",
    "import torch\n",
    "import torch.nn as nn\n",
    "\n",
    "dtype = torch.float\n",
    "device = torch.device(\"cpu\")\n",
    "# device = torch.device(\"cuda:0\") # Uncomment this to run on GPU"
   ]
  },
  {
   "cell_type": "markdown",
   "metadata": {},
   "source": [
    "Dann konstruieren wir hier Zufallsdaten und legen die Dimensionen unseres Problems fest. In diesem Beispiel bauen wir uns einen Eingabe-Datensatz mit 64 Datenpunkten und 1000 Features. Die Ausgabe, das Targetvalue ist 1-dimensional und Bernoulli-verteilt."
   ]
  },
  {
   "cell_type": "code",
   "execution_count": 2,
   "metadata": {},
   "outputs": [],
   "source": [
    "m = torch.distributions.bernoulli.Bernoulli(torch.tensor([0.3]))"
   ]
  },
  {
   "cell_type": "code",
   "execution_count": 3,
   "metadata": {},
   "outputs": [],
   "source": [
    "# N sind die Anzahl der Datenpunkte \n",
    "# D_in ist die Input-Dimension\n",
    "# D_out ist die Output-Dimension\n",
    "N, D_in, D_out = 64, 1000, 1\n",
    "\n",
    "# Zufällige input- und output-Daten (Labels)\n",
    "x = torch.randn(N, D_in, device=device, dtype=dtype)\n",
    "y = m.sample((N,)) # 30% chance 1; 70% chance 0"
   ]
  },
  {
   "cell_type": "markdown",
   "metadata": {},
   "source": [
    "Wir definieren unser modell mit Hilfe des 'nn' Packetes"
   ]
  },
  {
   "cell_type": "code",
   "execution_count": 4,
   "metadata": {},
   "outputs": [],
   "source": [
    "# Logistic regression model\n",
    "model = torch.nn.Sequential(\n",
    "    torch.nn.Linear(D_in, D_out),\n",
    "    torch.nn.Sigmoid()\n",
    ")"
   ]
  },
  {
   "cell_type": "markdown",
   "metadata": {},
   "source": [
    "Dannach legen wir ein Fehlermaß und einen Optimierer fest, sowie die entsprechenden Hyperparameter"
   ]
  },
  {
   "cell_type": "code",
   "execution_count": 5,
   "metadata": {},
   "outputs": [],
   "source": [
    "# Hyper-parameters \n",
    "learning_rate = 0.01"
   ]
  },
  {
   "cell_type": "code",
   "execution_count": 6,
   "metadata": {},
   "outputs": [],
   "source": [
    "# Loss and optimizer\n",
    "# nn.CrossEntropyLoss() computes softmax internally\n",
    "\n",
    "criterion = nn.MSELoss()\n",
    "optimizer = torch.optim.SGD(model.parameters(), lr=learning_rate) "
   ]
  },
  {
   "cell_type": "markdown",
   "metadata": {},
   "source": [
    "Wenn wir das haben, dann können wir unser Modell trainieren."
   ]
  },
  {
   "cell_type": "markdown",
   "metadata": {},
   "source": [
    "Interativ machen wir zunächst eine Vorhersage, dann berechnen wir den Fehler und aktualisieren die Gewichte mit Hilfe der Backpropagation. Diese Schritte wiederholen wir solange, bis der Fehler klein genug ist..."
   ]
  },
  {
   "cell_type": "code",
   "execution_count": 7,
   "metadata": {},
   "outputs": [],
   "source": [
    "loss_hist = []"
   ]
  },
  {
   "cell_type": "code",
   "execution_count": 8,
   "metadata": {},
   "outputs": [
    {
     "name": "stdout",
     "output_type": "stream",
     "text": [
      "0 0.2577028274536133\n",
      "50 0.05885036289691925\n",
      "100 0.027527358382940292\n",
      "150 0.017210757359862328\n",
      "200 0.0123132998123765\n",
      "250 0.009507089853286743\n",
      "300 0.007706061005592346\n",
      "350 0.006459417287260294\n",
      "400 0.005548746325075626\n",
      "450 0.00485615199431777\n",
      "500 0.00431269034743309\n",
      "550 0.003875486785545945\n",
      "600 0.0035165396984666586\n",
      "650 0.003216818440705538\n",
      "700 0.002962956903502345\n",
      "750 0.0027452996000647545\n",
      "800 0.002556703519076109\n",
      "850 0.002391779562458396\n",
      "900 0.002246379852294922\n",
      "950 0.002117270603775978\n"
     ]
    }
   ],
   "source": [
    "# Train\n",
    "for t in range(1000):\n",
    "    # Berechne die Vorhersage (foward step)\n",
    "    outputs = model(x) # mini-batch verwenden, falls es für IMDB zu lange dauert\n",
    "    \n",
    "    # Berechne den Fehler (Ausgabe des Fehlers alle 100 Iterationen)\n",
    "    loss = criterion(outputs, y)\n",
    "    \n",
    "    # Berechne die Gradienten und Aktualisiere die Gewichte (backward step)\n",
    "    optimizer.zero_grad()\n",
    "    loss.backward()\n",
    "    optimizer.step()\n",
    "    \n",
    "    # Berechne den Fehler (Ausgabe des Fehlers alle 100 Iterationen)\n",
    "    if t % 50 == 0:\n",
    "        loss_hist.append(loss.item())\n",
    "        print(t, loss.item())"
   ]
  },
  {
   "cell_type": "code",
   "execution_count": 9,
   "metadata": {},
   "outputs": [
    {
     "data": {
      "image/png": "[encoded data removed]",
      "text/plain": [
       "<Figure size 432x288 with 1 Axes>"
      ]
     },
     "metadata": {},
     "output_type": "display_data"
    }
   ],
   "source": [
    "plt.plot(loss_hist);"
   ]
  },
  {
   "cell_type": "markdown",
   "metadata": {},
   "source": [
    "Aufgabe:\n",
    "- Erweitert euer Projekt um die logistische Regression in Torch\n",
    "- Wendet die Logistische Regression auf den IMDB-Datensatz an\n",
    "- Speichert das Model nach dem Training\n",
    "- Ladet und testet das Modell auf dem Test-Datensatz"
   ]
  },
  {
   "cell_type": "code",
   "execution_count": null,
   "metadata": {},
   "outputs": [],
   "source": []
  }
 ],
 "metadata": {
  "kernelspec": {
   "display_name": "Python 3",
   "language": "python",
   "name": "python3"
  },
  "language_info": {
   "codemirror_mode": {
    "name": "ipython",
    "version": 3
   },
   "file_extension": ".py",
   "mimetype": "text/x-python",
   "name": "python",
   "nbconvert_exporter": "python",
   "pygments_lexer": "ipython3",
   "version": "3.6.5"
  }
 },
 "nbformat": 4,
 "nbformat_minor": 2
}
