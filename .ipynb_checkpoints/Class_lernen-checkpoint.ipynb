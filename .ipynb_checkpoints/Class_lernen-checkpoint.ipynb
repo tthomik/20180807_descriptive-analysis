{
 "cells": [
  {
   "cell_type": "code",
   "execution_count": 1,
   "metadata": {},
   "outputs": [],
   "source": [
    "import numpy as np\n",
    "import pandas as pd"
   ]
  },
  {
   "cell_type": "code",
   "execution_count": 98,
   "metadata": {},
   "outputs": [],
   "source": [
    "#so muss jede Klasse beginnen, Mango und Trauben sind variablen und dienen als Userinput, genauso wie bei einer Funktion\n",
    "        \n",
    "class Essen:\n",
    "    def __init__(self, *,Mango, Trauben, Personen): # Alle Argumente nach * sind Keyword Arguments (kwargs) und müssen dann beim Abruf genau definiert werden\n",
    "        self.mango = Mango\n",
    "        self.trauben = Trauben\n",
    "        self.personen = Personen\n",
    "        return print(f'Wir teilen {self.mango} Mangos und {self.trauben} Trauben')\n",
    "                     \n",
    "        \n",
    "    def mango_teilen(self): # setzt man ein _ vor mango_teilen, dann kann diese Funktion nicht mehr aufgerufen werden, nachfolgende Funktionen können dennoch darauf zugreifen\n",
    "        self.mango_geteilt = self.mango / self.personen\n",
    "        return print(f'Jede Person bekommt {self.mango_geteilt} Mango')\n",
    "    \n",
    "    def trauben_teilen(self):\n",
    "        self.trauben_geteilt = self.trauben / self.personen\n",
    "        return print(f'Jede Person bekommt {self.trauben_geteilt} Trauben')\n",
    "    \n",
    "    def teilen(self): # diese Funktion ist dafür da, damit die beiden vorherigen Funktionen nicht aufgerufen werden müssen. Man könnte daher ein _ vor den vorherigen Funktionen setzen, dann muss es aber self._mango_teilen heißen\n",
    "        self.mango_teilen()\n",
    "        self.trauben_teilen()\n",
    "        return None"
   ]
  },
  {
   "cell_type": "code",
   "execution_count": 99,
   "metadata": {},
   "outputs": [
    {
     "name": "stdout",
     "output_type": "stream",
     "text": [
      "Wir teilen 1 Mangos und 12 Trauben\n"
     ]
    }
   ],
   "source": [
    "essen = Essen(Mango=1, Trauben=12, Personen = 2)"
   ]
  },
  {
   "cell_type": "code",
   "execution_count": 100,
   "metadata": {},
   "outputs": [
    {
     "name": "stdout",
     "output_type": "stream",
     "text": [
      "Jede Person bekommt 0.5 Mango\n"
     ]
    }
   ],
   "source": [
    "essen.mango_teilen()"
   ]
  },
  {
   "cell_type": "code",
   "execution_count": 101,
   "metadata": {},
   "outputs": [
    {
     "name": "stdout",
     "output_type": "stream",
     "text": [
      "Jede Person bekommt 6.0 Trauben\n"
     ]
    }
   ],
   "source": [
    "essen.trauben_teilen()"
   ]
  },
  {
   "cell_type": "code",
   "execution_count": 102,
   "metadata": {},
   "outputs": [
    {
     "name": "stdout",
     "output_type": "stream",
     "text": [
      "Jede Person bekommt 0.5 Mango\n",
      "Jede Person bekommt 6.0 Trauben\n"
     ]
    }
   ],
   "source": [
    "essen.teilen()"
   ]
  },
  {
   "cell_type": "code",
   "execution_count": 103,
   "metadata": {},
   "outputs": [
    {
     "name": "stdout",
     "output_type": "stream",
     "text": [
      "Jede Person bekommt 0.5 Mango\n"
     ]
    }
   ],
   "source": [
    "essen.mango_teilen()"
   ]
  },
  {
   "cell_type": "code",
   "execution_count": 104,
   "metadata": {},
   "outputs": [
    {
     "name": "stdout",
     "output_type": "stream",
     "text": [
      "Jede Person bekommt 6.0 Trauben\n"
     ]
    }
   ],
   "source": [
    "essen.trauben_teilen()"
   ]
  },
  {
   "cell_type": "code",
   "execution_count": 105,
   "metadata": {},
   "outputs": [
    {
     "name": "stdout",
     "output_type": "stream",
     "text": [
      "Jede Person bekommt 0.5 Mango\n",
      "Jede Person bekommt 6.0 Trauben\n"
     ]
    }
   ],
   "source": [
    "essen.teilen()"
   ]
  },
  {
   "cell_type": "code",
   "execution_count": null,
   "metadata": {},
   "outputs": [],
   "source": []
  },
  {
   "cell_type": "code",
   "execution_count": null,
   "metadata": {},
   "outputs": [],
   "source": []
  },
  {
   "cell_type": "code",
   "execution_count": null,
   "metadata": {},
   "outputs": [],
   "source": []
  }
 ],
 "metadata": {
  "kernelspec": {
   "display_name": "Python 3",
   "language": "python",
   "name": "python3"
  },
  "language_info": {
   "codemirror_mode": {
    "name": "ipython",
    "version": 3
   },
   "file_extension": ".py",
   "mimetype": "text/x-python",
   "name": "python",
   "nbconvert_exporter": "python",
   "pygments_lexer": "ipython3",
   "version": "3.6.5"
  }
 },
 "nbformat": 4,
 "nbformat_minor": 2
}
