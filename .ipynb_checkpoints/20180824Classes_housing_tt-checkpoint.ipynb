{
 "cells": [
  {
   "cell_type": "markdown",
   "metadata": {},
   "source": [
    "# Functions"
   ]
  },
  {
   "cell_type": "code",
   "execution_count": 31,
   "metadata": {},
   "outputs": [
    {
     "name": "stdout",
     "output_type": "stream",
     "text": [
      "1 2 3\n"
     ]
    }
   ],
   "source": [
    "def args_function(a, b, c):\n",
    "    print(a, b, c)\n",
    "   \n",
    "args_function(1, 2, 3)"
   ]
  },
  {
   "cell_type": "code",
   "execution_count": 39,
   "metadata": {},
   "outputs": [
    {
     "name": "stdout",
     "output_type": "stream",
     "text": [
      "1 2 3\n"
     ]
    }
   ],
   "source": [
    "# Keyword \n",
    "def kwargs_function(*, a, b, c):\n",
    "    print(a, b, c)\n",
    "    \n",
    "kwargs_function(b=2, a=1, c=3)"
   ]
  },
  {
   "cell_type": "code",
   "execution_count": 33,
   "metadata": {},
   "outputs": [
    {
     "name": "stdout",
     "output_type": "stream",
     "text": [
      "args: 1 2 3\n",
      "kwargs 4 5 6\n"
     ]
    }
   ],
   "source": [
    "def args_and_kwargs_function(a, b, c, *, d, e, f):\n",
    "    print('args:', a, b, c)\n",
    "    print('kwargs', d, e, f)\n",
    "    \n",
    "args_and_kwargs_function(1, 2, 3, d=4, e=5, f=6)"
   ]
  },
  {
   "cell_type": "code",
   "execution_count": 34,
   "metadata": {},
   "outputs": [
    {
     "name": "stdout",
     "output_type": "stream",
     "text": [
      "{'a': 1, 'b': 2, 'c': 3}\n",
      "{'a': 3, 'b': 4, 'c': 5}\n"
     ]
    }
   ],
   "source": [
    "def generic_kwargs_function(**kwargs):\n",
    "    print(kwargs)\n",
    "\n",
    "generic_kwargs_function(a=1, b=2, c=3)\n",
    "\n",
    "args = {'a': 3, 'b': 4, 'c': 5}\n",
    "generic_kwargs_function(**args)"
   ]
  },
  {
   "cell_type": "markdown",
   "metadata": {},
   "source": [
    "# Defaults"
   ]
  },
  {
   "cell_type": "code",
   "execution_count": 38,
   "metadata": {},
   "outputs": [
    {
     "name": "stdout",
     "output_type": "stream",
     "text": [
      "2.5\n",
      "5\n"
     ]
    }
   ],
   "source": [
    "def calc_score(value, weight=0.5):\n",
    "    return value * weight\n",
    "\n",
    "print(calc_score(5))\n",
    "print(calc_score(5, 1))"
   ]
  },
  {
   "cell_type": "code",
   "execution_count": 40,
   "metadata": {},
   "outputs": [
    {
     "name": "stdout",
     "output_type": "stream",
     "text": [
      "2.5\n",
      "5\n"
     ]
    }
   ],
   "source": [
    "def calc_score(value, *, weight=None):\n",
    "    if weight == None:\n",
    "        weight = 0.5\n",
    "        \n",
    "    return value * weight\n",
    "\n",
    "print(calc_score(5))\n",
    "print(calc_score(5, weight=1))"
   ]
  },
  {
   "cell_type": "markdown",
   "metadata": {},
   "source": [
    "# Classes"
   ]
  },
  {
   "cell_type": "code",
   "execution_count": 66,
   "metadata": {},
   "outputs": [
    {
     "name": "stdout",
     "output_type": "stream",
     "text": [
      "starting engine...\n",
      "engine running...\n",
      "Engine: running, driving: False\n",
      "Engine: running, driving: False\n",
      "driving...\n",
      "Engine: running, driving: True\n",
      "Engine: running, driving: True\n",
      "stopped.\n",
      "Engine: running, driving: False\n",
      "Engine: running, driving: False\n",
      "stopping engine...\n",
      "engine stopped.\n",
      "Engine: stopped, driving: False\n",
      "Engine: stopped, driving: False\n"
     ]
    }
   ],
   "source": [
    "class Car:\n",
    "    def __init__(self):\n",
    "        self.engine = 'stopped'\n",
    "        self.driving = False\n",
    "        \n",
    "    def call(self, what):\n",
    "        return getattr(self, what)()\n",
    "\n",
    "    def start_engine(self):\n",
    "        print('starting engine...')\n",
    "        self.engine = 'running'\n",
    "        print('engine running...')\n",
    "        self._report()\n",
    "\n",
    "    def stop_engine(self):\n",
    "        print('stopping engine...')\n",
    "        self.engine = 'stopped'\n",
    "        self.driving = False\n",
    "        print('engine stopped.')\n",
    "        self._report()\n",
    "\n",
    "    def drive(self):\n",
    "        print('driving...')\n",
    "        self.driving = True\n",
    "        self._report()\n",
    "\n",
    "    def stop(self):\n",
    "        print('stopped.')\n",
    "        self.driving = False\n",
    "        self._report()\n",
    "        \n",
    "    def _report(self):\n",
    "        # Python 3.6\n",
    "        print(f'Engine: {self.engine}, driving: {self.driving}')\n",
    "        # Python 2.7\n",
    "        template = 'Engine: {engine}, driving: {driving}'\n",
    "        print(template.format(engine=self.engine, driving=self.driving))\n",
    "        \n",
    "        \n",
    "car = Car()\n",
    "car.start_engine()\n",
    "car.drive()\n",
    "car.stop()\n",
    "car.stop_engine()\n"
   ]
  },
  {
   "cell_type": "code",
   "execution_count": 82,
   "metadata": {},
   "outputs": [],
   "source": [
    "import pandas as pd\n",
    "import numpy as np\n",
    "\n",
    "from sklearn import datasets, linear_model\n",
    "from sklearn.model_selection import train_test_split\n",
    "\n",
    "class Housing:\n",
    "    def __init__(self):\n",
    "        self.data = None\n",
    "        self.data_to_predict = None\n",
    "        self.clean_data = None\n",
    "        self.training_results = None\n",
    "        \n",
    "    def load_csv(self, path):\n",
    "        self.data = pd.read_csv(path)\n",
    "\n",
    "    def setup(self):\n",
    "        self._set_data_to_predict()\n",
    "        self._cleanup()\n",
    "        \n",
    "    def _set_data_to_predict(self):\n",
    "        self.data_to_predict = self.data[self.data.isnull().any(axis=1)]\n",
    "        \n",
    "    def _cleanup(self):\n",
    "        self.clean_data = self.data.dropna(axis=0, how='any')\n",
    "        \n",
    "    def train(self):\n",
    "        # existing values for households need to be converted to a 2D-array \n",
    "        x = np.array(self.clean_data['households'], dtype=pd.Series).reshape(-1, 1) \n",
    "\n",
    "        # existing values for total_bedrooms are being transformed to an 1D-array \n",
    "        y = self.clean_data['total_bedrooms'].values \n",
    "\n",
    "        self.training_results = train_test_split(x, y,\n",
    "                                                 test_size=0.2,\n",
    "                                                 random_state=11)\n",
    "\n",
    "        x_train, _, y_train, _ = self.training_results\n",
    "        \n",
    "        linear_regression = linear_model.LinearRegression()\n",
    "        linear_regression.fit(x_train, y_train)\n",
    "        \n",
    "        self.linear_regression = linear_regression\n",
    "        \n",
    "        return linear_regression\n",
    "    \n",
    "    def predict_missing(self):\n",
    "        # Take existing values for households # Take e \n",
    "        x_missing_values = np.array(self.data_to_predict['households'], dtype=pd.Series).reshape(-1, 1) \n",
    "\n",
    "        # Make estimates of missing values using the training dataset\n",
    "        return self.linear_regression.predict(x_missing_values)\n",
    "        \n"
   ]
  },
  {
   "cell_type": "code",
   "execution_count": 91,
   "metadata": {},
   "outputs": [
    {
     "name": "stdout",
     "output_type": "stream",
     "text": [
      "[ 234.56281925  278.71833791 1370.7597017   157.02142064  173.17587868\n",
      "  599.65357105  645.96301745 1089.67213173  581.34518527  537.18966662\n",
      "  673.96407806  400.41525517 1356.7591714   999.20716668  624.42374005\n",
      "  241.02460247  314.2581456   261.48691599  276.56441017  720.27352445\n",
      "  286.25708499   97.78840781   17.01611759  628.73159553  333.64349526\n",
      "  971.20610607  827.96991141  670.73318645 1292.14133922  592.11482397\n",
      "  793.50706758 1606.61478915 1378.29844879  433.80113513  728.88923541\n",
      "  166.71409547  568.42161883  316.41207334  335.797423    781.66046502\n",
      "  454.26344865  472.57183444  312.10421786 1269.52509796  734.27405476\n",
      " 1574.30587306  472.57183444  555.4980524   201.17693929  291.64190434\n",
      "  511.34253374  314.2581456   263.64084373  806.43063402  248.56334956\n",
      "  512.41949761  325.0277843   433.80113513  830.12383915  474.72576218\n",
      "  364.87544748  350.87491717  570.57554657  353.02884491  782.73742889\n",
      "  538.26663048  535.03573888  433.80113513 1347.06649657  510.26556987\n",
      "  276.56441017  166.71409547 1089.67213173  669.65622258  384.26079713\n",
      "  594.26875171  237.79371086  129.02036003  486.57236474  459.648268\n",
      " 1287.83348374  228.10103603  266.87173534  677.19496967  289.4879766\n",
      "  139.78999873  235.63978312  290.56494047 1023.97733568  308.87332626\n",
      "  139.78999873 1596.92211432  141.94392646  276.56441017  120.40464907\n",
      "  460.72523187  423.03149644   71.94127494   77.32609429  472.57183444\n",
      "  470.4179067   297.02672369  455.34041252  820.43116433  582.42214914\n",
      "  234.56281925  561.95983562  196.86908382  669.65622258  537.18966662\n",
      "  377.79901391  260.40995212 1144.59728908 1072.44070982  652.42480066\n",
      "  551.19019692  200.09997542 1266.29420635  217.33139734  605.0383904\n",
      "  302.41154304  675.04104193  403.64614678  907.66523776  657.80962001\n",
      "  385.337761    115.01982972  420.8775687   572.72947431  169.94498707\n",
      "  403.64614678  637.34730649  216.25443347  580.2682214   419.80060483\n",
      "  116.09679359  537.18966662  458.57130413  288.41101273  739.6588741\n",
      "  264.7178076   116.09679359  728.88923541  430.57024352  537.18966662\n",
      "  734.27405476  248.56334956  928.12755129  862.43275524  230.25496377\n",
      "  163.48320386 1036.90090212   95.63448007  696.58031932  437.03202674\n",
      "  434.878099    353.02884491  381.02990552  273.33351856 1655.07816328\n",
      "  167.79105934  769.81386245  516.72735309  815.04634498  649.19390906\n",
      "  425.18542417  575.96036592 1548.45874019  391.79954422  415.49274935\n",
      "  738.58191023  961.51343125  295.94975982  628.73159553  208.71568638\n",
      " 1176.90620517 3865.00802374  518.88128083  194.71515608  555.4980524\n",
      "  794.58403145  295.94975982  539.34359435  837.66258624  427.33935191\n",
      " 1512.91893249  354.10580878  113.94286585  641.65516197  274.41048243\n",
      "  344.41313395   89.17269685  281.94922952  531.80484727  160.25231225\n",
      "  315.33510947  273.33351856  555.4980524   221.63925282  386.41472487\n",
      "   99.94233555  373.49115843  838.73955011  820.43116433  720.27352445\n",
      "  876.43328555  532.88181114]\n"
     ]
    }
   ],
   "source": [
    "housing = Housing()\n",
    "housing.load_csv('../data/housing.csv')\n",
    "\n",
    "housing.setup()\n",
    "linear_regression = housing.train()\n",
    "\n",
    "_, x_test, _, _ = housing.training_results\n",
    "\n",
    "y_prediction = linear_regression.predict(x_test)\n",
    "\n",
    "# print(y_prediction)\n",
    "\n",
    "\n",
    "y_missing_values = housing.predict_missing()\n",
    "\n",
    "\n",
    "print(y_missing_values)\n"
   ]
  },
  {
   "cell_type": "code",
   "execution_count": null,
   "metadata": {},
   "outputs": [],
   "source": [
    "# "
   ]
  }
 ],
 "metadata": {
  "kernelspec": {
   "display_name": "Python 3",
   "language": "python",
   "name": "python3"
  },
  "language_info": {
   "codemirror_mode": {
    "name": "ipython",
    "version": 3
   },
   "file_extension": ".py",
   "mimetype": "text/x-python",
   "name": "python",
   "nbconvert_exporter": "python",
   "pygments_lexer": "ipython3",
   "version": "3.6.5"
  }
 },
 "nbformat": 4,
 "nbformat_minor": 2
}
